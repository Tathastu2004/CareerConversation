{
 "cells": [
  {
   "cell_type": "markdown",
   "metadata": {},
   "source": [
    "# Welcome to the start of your adventure in Agentic AI"
   ]
  },
  {
   "cell_type": "markdown",
   "metadata": {},
   "source": [
    "<table style=\"margin: 0; text-align: left; width:100%\">\n",
    "    <tr>\n",
    "        <td style=\"width: 150px; height: 150px; vertical-align: middle;\">\n",
    "            <img src=\"../assets/stop.png\" width=\"150\" height=\"150\" style=\"display: block;\" />\n",
    "        </td>\n",
    "        <td>\n",
    "            <h2 style=\"color:#ff7800;\">Are you ready for action??</h2>\n",
    "            <span style=\"color:#ff7800;\">Have you completed all the setup steps in the <a href=\"../setup/\">setup</a> folder?<br/>\n",
    "            Have you read the <a href=\"../README.md\">README</a>? Many common questions are answered here!<br/>\n",
    "            Have you checked out the guides in the <a href=\"../guides/01_intro.ipynb\">guides</a> folder?<br/>\n",
    "            Well in that case, you're ready!!\n",
    "            </span>\n",
    "        </td>\n",
    "    </tr>\n",
    "</table>"
   ]
  },
  {
   "cell_type": "markdown",
   "metadata": {},
   "source": [
    "<table style=\"margin: 0; text-align: left; width:100%\">\n",
    "    <tr>\n",
    "        <td style=\"width: 150px; height: 150px; vertical-align: middle;\">\n",
    "            <img src=\"../assets/tools.png\" width=\"150\" height=\"150\" style=\"display: block;\" />\n",
    "        </td>\n",
    "        <td>\n",
    "            <h2 style=\"color:#00bfff;\">This code is a live resource - keep an eye out for my updates</h2>\n",
    "            <span style=\"color:#00bfff;\">I push updates regularly. As people ask questions or have problems, I add more examples and improve explanations. As a result, the code below might not be identical to the videos, as I've added more steps and better comments. Consider this like an interactive book that accompanies the lectures.<br/><br/>\n",
    "            I try to send emails regularly with important updates related to the course. You can find this in the 'Announcements' section of Udemy in the left sidebar. You can also choose to receive my emails via your Notification Settings in Udemy. I'm respectful of your inbox and always try to add value with my emails!\n",
    "            </span>\n",
    "        </td>\n",
    "    </tr>\n",
    "</table>"
   ]
  },
  {
   "cell_type": "markdown",
   "metadata": {},
   "source": [
    "### And please do remember to contact me if I can help\n",
    "\n",
    "And I love to connect: https://www.linkedin.com/in/eddonner/\n",
    "\n",
    "\n",
    "### New to Notebooks like this one? Head over to the guides folder!\n",
    "\n",
    "Just to check you've already added the Python and Jupyter extensions to Cursor, if not already installed:\n",
    "- Open extensions (View >> extensions)\n",
    "- Search for python, and when the results show, click on the ms-python one, and Install it if not already installed\n",
    "- Search for jupyter, and when the results show, click on the Microsoft one, and Install it if not already installed  \n",
    "Then View >> Explorer to bring back the File Explorer.\n",
    "\n",
    "And then:\n",
    "1. Click where it says \"Select Kernel\" near the top right, and select the option called `.venv (Python 3.12.9)` or similar, which should be the first choice or the most prominent choice. You may need to choose \"Python Environments\" first.\n",
    "2. Click in each \"cell\" below, starting with the cell immediately below this text, and press Shift+Enter to run\n",
    "3. Enjoy!\n",
    "\n",
    "After you click \"Select Kernel\", if there is no option like `.venv (Python 3.12.9)` then please do the following:  \n",
    "1. On Mac: From the Cursor menu, choose Settings >> VS Code Settings (NOTE: be sure to select `VSCode Settings` not `Cursor Settings`);  \n",
    "On Windows PC: From the File menu, choose Preferences >> VS Code Settings(NOTE: be sure to select `VSCode Settings` not `Cursor Settings`)  \n",
    "2. In the Settings search bar, type \"venv\"  \n",
    "3. In the field \"Path to folder with a list of Virtual Environments\" put the path to the project root, like C:\\Users\\username\\projects\\agents (on a Windows PC) or /Users/username/projects/agents (on Mac or Linux).  \n",
    "And then try again.\n",
    "\n",
    "Having problems with missing Python versions in that list? Have you ever used Anaconda before? It might be interferring. Quit Cursor, bring up a new command line, and make sure that your Anaconda environment is deactivated:    \n",
    "`conda deactivate`  \n",
    "And if you still have any problems with conda and python versions, it's possible that you will need to run this too:  \n",
    "`conda config --set auto_activate_base false`  \n",
    "and then from within the Agents directory, you should be able to run `uv python list` and see the Python 3.12 version."
   ]
  },
  {
   "cell_type": "code",
   "execution_count": 1,
   "metadata": {},
   "outputs": [],
   "source": [
    "# First let's do an import. If you get an Import Error, double check that your Kernel is correct..\n",
    "\n",
    "from dotenv import load_dotenv\n"
   ]
  },
  {
   "cell_type": "code",
   "execution_count": 2,
   "metadata": {},
   "outputs": [
    {
     "data": {
      "text/plain": [
       "True"
      ]
     },
     "execution_count": 2,
     "metadata": {},
     "output_type": "execute_result"
    }
   ],
   "source": [
    "# Next it's time to load the API keys into environment variables\n",
    "# If this returns false, see the next cell!\n",
    "\n",
    "load_dotenv(override=True)"
   ]
  },
  {
   "cell_type": "markdown",
   "metadata": {},
   "source": [
    "### Wait, did that just output `False`??\n",
    "\n",
    "If so, the most common reason is that you didn't save your `.env` file after adding the key! Be sure to have saved.\n",
    "\n",
    "Also, make sure the `.env` file is named precisely `.env` and is in the project root directory (`agents`)\n",
    "\n",
    "By the way, your `.env` file should have a stop symbol next to it in Cursor on the left, and that's actually a good thing: that's Cursor saying to you, \"hey, I realize this is a file filled with secret information, and I'm not going to send it to an external AI to suggest changes, because your keys should not be shown to anyone else.\""
   ]
  },
  {
   "cell_type": "markdown",
   "metadata": {},
   "source": [
    "<table style=\"margin: 0; text-align: left; width:100%\">\n",
    "    <tr>\n",
    "        <td style=\"width: 150px; height: 150px; vertical-align: middle;\">\n",
    "            <img src=\"../assets/stop.png\" width=\"150\" height=\"150\" style=\"display: block;\" />\n",
    "        </td>\n",
    "        <td>\n",
    "            <h2 style=\"color:#ff7800;\">Final reminders</h2>\n",
    "            <span style=\"color:#ff7800;\">1. If you're not confident about Environment Variables or Web Endpoints / APIs, please read Topics 3 and 5 in this <a href=\"../guides/04_technical_foundations.ipynb\">technical foundations guide</a>.<br/>\n",
    "            2. If you want to use AIs other than OpenAI, like Gemini, DeepSeek or Ollama (free), please see the first section in this <a href=\"../guides/09_ai_apis_and_ollama.ipynb\">AI APIs guide</a>.<br/>\n",
    "            3. If you ever get a Name Error in Python, you can always fix it immediately; see the last section of this <a href=\"../guides/06_python_foundations.ipynb\">Python Foundations guide</a> and follow both tutorials and exercises.<br/>\n",
    "            </span>\n",
    "        </td>\n",
    "    </tr>\n",
    "</table>"
   ]
  },
  {
   "cell_type": "code",
   "execution_count": 15,
   "metadata": {},
   "outputs": [
    {
     "name": "stdout",
     "output_type": "stream",
     "text": [
      "OpenAI API Key exists and begins AIzaSyBT\n"
     ]
    }
   ],
   "source": [
    "# Check the key - if you're not using OpenAI, check whichever key you're using! Ollama doesn't need a key.\n",
    "\n",
    "import os\n",
    "gemini_api_key= os.getenv('GEMINI_API_KEY')\n",
    "\n",
    "if gemini_api_key:\n",
    "    print(f\"OpenAI API Key exists and begins {gemini_api_key[:8]}\")\n",
    "else:\n",
    "    print(\"OpenAI API Key not set - please head to the troubleshooting guide in the setup folder\")\n",
    "    \n"
   ]
  },
  {
   "cell_type": "code",
   "execution_count": 20,
   "metadata": {},
   "outputs": [],
   "source": [
    "# And now - the all important import statement\n",
    "# If you get an import error - head over to troubleshooting in the Setup folder\n",
    "\n",
    "from openai import OpenAI\n"
   ]
  },
  {
   "cell_type": "code",
   "execution_count": 32,
   "metadata": {},
   "outputs": [
    {
     "name": "stdout",
     "output_type": "stream",
     "text": [
      "2+2 = 4\n"
     ]
    }
   ],
   "source": [
    "import os\n",
    "from openai import OpenAI\n",
    "from dotenv import load_dotenv\n",
    "\n",
    "load_dotenv(override=True)\n",
    "\n",
    "GEMINI_BASE_URL = \"https://generativelanguage.googleapis.com/v1beta/openai/\"\n",
    "gemini_api_key = os.getenv(\"GEMINI_API_KEY\")\n",
    "\n",
    "gemini = OpenAI(base_url=GEMINI_BASE_URL, api_key=gemini_api_key)\n",
    "response = gemini.chat.completions.create(\n",
    "    model=\"gemini-2.5-flash-preview-05-20\",  # or the correct model name for Gemini\n",
    "    messages=[{\"role\": \"user\", \"content\": \"What is 2+2?\"}]\n",
    ")\n",
    "print(response.choices[0].message.content)"
   ]
  },
  {
   "cell_type": "code",
   "execution_count": 33,
   "metadata": {},
   "outputs": [],
   "source": [
    "# Create a list of messages in the familiar OpenAI format\n",
    "\n",
    "messages = [{\"role\": \"user\", \"content\": \"What is 2+2?\"}]"
   ]
  },
  {
   "cell_type": "code",
   "execution_count": 34,
   "metadata": {},
   "outputs": [
    {
     "name": "stdout",
     "output_type": "stream",
     "text": [
      "2 + 2 = 4\n"
     ]
    }
   ],
   "source": [
    "#call the gemini api\n",
    "response = gemini.chat.completions.create(\n",
    "    model=\"gemini-2.5-flash-preview-05-20\",  # Use the correct model name for Gemini\n",
    "    messages=messages\n",
    ")\n",
    "\n",
    "# Print the response\n",
    "print(response.choices[0].message.content)"
   ]
  },
  {
   "cell_type": "code",
   "execution_count": 35,
   "metadata": {},
   "outputs": [],
   "source": [
    "# And now - let's ask for a question:\n",
    "\n",
    "question = \"Please propose a hard, challenging question to assess someone's IQ. Respond only with the question.\"\n",
    "messages = [{\"role\": \"user\", \"content\": question}]\n"
   ]
  },
  {
   "cell_type": "code",
   "execution_count": 36,
   "metadata": {},
   "outputs": [
    {
     "name": "stdout",
     "output_type": "stream",
     "text": [
      "Given the following sequence of symbolic states, what is the next state?\n",
      "\n",
      "[A B C]\n",
      "[D F E]\n",
      "[H I G]\n",
      "[J L K]\n",
      "[N O M]\n",
      "\n",
      "What is the next state in the sequence?\n"
     ]
    }
   ],
   "source": [
    "response = gemini.chat.completions.create(\n",
    "    model=\"gemini-2.5-flash-preview-05-20\",  # Use the correct model name for Gemini\n",
    "    messages=messages\n",
    ")\n",
    "\n",
    "# Print the response\n",
    "question = (response.choices[0].message.content)\n",
    "print(question)\n",
    "\n"
   ]
  },
  {
   "cell_type": "code",
   "execution_count": 37,
   "metadata": {},
   "outputs": [],
   "source": [
    "# form a new messages list\n",
    "messages = [{\"role\": \"user\", \"content\": question}]\n"
   ]
  },
  {
   "cell_type": "code",
   "execution_count": 38,
   "metadata": {},
   "outputs": [
    {
     "name": "stdout",
     "output_type": "stream",
     "text": [
      "Let's break down the pattern:\n",
      "\n",
      "1.  **Identify the consecutive blocks of letters:**\n",
      "    *   [A B C] uses letters A, B, C.\n",
      "    *   [D F E] uses letters D, E, F.\n",
      "    *   [H I G] uses letters G, H, I. (Note: G comes before H, I alphabetically)\n",
      "    *   [J L K] uses letters J, K, L.\n",
      "    *   [N O M] uses letters M, N, O. (Note: M comes before N, O alphabetically)\n",
      "\n",
      "    The pattern for the *set* of letters used is consecutive blocks of three letters from the alphabet. The last set used was M, N, O.\n",
      "    Therefore, the next set of three consecutive letters will be **P, Q, R**.\n",
      "\n",
      "2.  **Identify the internal arrangement pattern:**\n",
      "    Let's label the natural alphabetical order of the three letters as 1st, 2nd, 3rd (e.g., for A, B, C: A=1st, B=2nd, C=3rd).\n",
      "\n",
      "    *   [A B C]: (1st, 2nd, 3rd) -> A B C\n",
      "    *   [D F E]: (1st, 3rd, 2nd) -> D F E (where D=1st, E=2nd, F=3rd)\n",
      "    *   [H I G]: (2nd, 3rd, 1st) -> H I G (where G=1st, H=2nd, I=3rd)\n",
      "    *   [J L K]: (1st, 3rd, 2nd) -> J L K (where J=1st, K=2nd, L=3rd)\n",
      "    *   [N O M]: (2nd, 3rd, 1st) -> N O M (where M=1st, N=2nd, O=3rd)\n",
      "\n",
      "    The sequence of arrangement patterns is:\n",
      "    1.  (1st, 2nd, 3rd) - *This appears once at the beginning.*\n",
      "    2.  (1st, 3rd, 2nd)\n",
      "    3.  (2nd, 3rd, 1st)\n",
      "    4.  (1st, 3rd, 2nd)\n",
      "    5.  (2nd, 3rd, 1st)\n",
      "\n",
      "    After the initial state, the pattern alternates between (1st, 3rd, 2nd) and (2nd, 3rd, 1st). Since the last state [N O M] used the (2nd, 3rd, 1st) pattern, the next state will use the **(1st, 3rd, 2nd)** pattern.\n",
      "\n",
      "3.  **Apply the next pattern to the next set of letters:**\n",
      "    The next set of letters is P, Q, R.\n",
      "    *   P = 1st letter\n",
      "    *   Q = 2nd letter\n",
      "    *   R = 3rd letter\n",
      "\n",
      "    Applying the (1st, 3rd, 2nd) pattern:\n",
      "    *   1st position: P\n",
      "    *   2nd position: R (the 3rd letter)\n",
      "    *   3rd position: Q (the 2nd letter)\n",
      "\n",
      "The next state in the sequence is **[P R Q]**\n"
     ]
    }
   ],
   "source": [
    "# Ask it again\n",
    "\n",
    "response = gemini.chat.completions.create(\n",
    "    model=\"gemini-2.5-flash-preview-05-20\",\n",
    "    messages=messages\n",
    ")\n",
    "\n",
    "answer = response.choices[0].message.content\n",
    "print(answer)\n"
   ]
  },
  {
   "cell_type": "code",
   "execution_count": 39,
   "metadata": {},
   "outputs": [
    {
     "data": {
      "text/markdown": [
       "Let's break down the pattern:\n",
       "\n",
       "1.  **Identify the consecutive blocks of letters:**\n",
       "    *   [A B C] uses letters A, B, C.\n",
       "    *   [D F E] uses letters D, E, F.\n",
       "    *   [H I G] uses letters G, H, I. (Note: G comes before H, I alphabetically)\n",
       "    *   [J L K] uses letters J, K, L.\n",
       "    *   [N O M] uses letters M, N, O. (Note: M comes before N, O alphabetically)\n",
       "\n",
       "    The pattern for the *set* of letters used is consecutive blocks of three letters from the alphabet. The last set used was M, N, O.\n",
       "    Therefore, the next set of three consecutive letters will be **P, Q, R**.\n",
       "\n",
       "2.  **Identify the internal arrangement pattern:**\n",
       "    Let's label the natural alphabetical order of the three letters as 1st, 2nd, 3rd (e.g., for A, B, C: A=1st, B=2nd, C=3rd).\n",
       "\n",
       "    *   [A B C]: (1st, 2nd, 3rd) -> A B C\n",
       "    *   [D F E]: (1st, 3rd, 2nd) -> D F E (where D=1st, E=2nd, F=3rd)\n",
       "    *   [H I G]: (2nd, 3rd, 1st) -> H I G (where G=1st, H=2nd, I=3rd)\n",
       "    *   [J L K]: (1st, 3rd, 2nd) -> J L K (where J=1st, K=2nd, L=3rd)\n",
       "    *   [N O M]: (2nd, 3rd, 1st) -> N O M (where M=1st, N=2nd, O=3rd)\n",
       "\n",
       "    The sequence of arrangement patterns is:\n",
       "    1.  (1st, 2nd, 3rd) - *This appears once at the beginning.*\n",
       "    2.  (1st, 3rd, 2nd)\n",
       "    3.  (2nd, 3rd, 1st)\n",
       "    4.  (1st, 3rd, 2nd)\n",
       "    5.  (2nd, 3rd, 1st)\n",
       "\n",
       "    After the initial state, the pattern alternates between (1st, 3rd, 2nd) and (2nd, 3rd, 1st). Since the last state [N O M] used the (2nd, 3rd, 1st) pattern, the next state will use the **(1st, 3rd, 2nd)** pattern.\n",
       "\n",
       "3.  **Apply the next pattern to the next set of letters:**\n",
       "    The next set of letters is P, Q, R.\n",
       "    *   P = 1st letter\n",
       "    *   Q = 2nd letter\n",
       "    *   R = 3rd letter\n",
       "\n",
       "    Applying the (1st, 3rd, 2nd) pattern:\n",
       "    *   1st position: P\n",
       "    *   2nd position: R (the 3rd letter)\n",
       "    *   3rd position: Q (the 2nd letter)\n",
       "\n",
       "The next state in the sequence is **[P R Q]**"
      ],
      "text/plain": [
       "<IPython.core.display.Markdown object>"
      ]
     },
     "metadata": {},
     "output_type": "display_data"
    }
   ],
   "source": [
    "from IPython.display import Markdown, display\n",
    "\n",
    "display(Markdown(answer))\n",
    "\n"
   ]
  },
  {
   "cell_type": "markdown",
   "metadata": {},
   "source": [
    "# Congratulations!\n",
    "\n",
    "That was a small, simple step in the direction of Agentic AI, with your new environment!\n",
    "\n",
    "Next time things get more interesting..."
   ]
  },
  {
   "cell_type": "markdown",
   "metadata": {},
   "source": [
    "<table style=\"margin: 0; text-align: left; width:100%\">\n",
    "    <tr>\n",
    "        <td style=\"width: 150px; height: 150px; vertical-align: middle;\">\n",
    "            <img src=\"../assets/exercise.png\" width=\"150\" height=\"150\" style=\"display: block;\" />\n",
    "        </td>\n",
    "        <td>\n",
    "            <h2 style=\"color:#ff7800;\">Exercise</h2>\n",
    "            <span style=\"color:#ff7800;\">Now try this commercial application:<br/>\n",
    "            First ask the LLM to pick a business area that might be worth exploring for an Agentic AI opportunity.<br/>\n",
    "            Then ask the LLM to present a pain-point in that industry - something challenging that might be ripe for an Agentic solution.<br/>\n",
    "            Finally have 3 third LLM call propose the Agentic AI solution. <br/>\n",
    "            We will cover this at up-coming labs, so don't worry if you're unsure.. just give it a try!\n",
    "            </span>\n",
    "        </td>\n",
    "    </tr>\n",
    "</table>"
   ]
  },
  {
   "cell_type": "code",
   "execution_count": 40,
   "metadata": {},
   "outputs": [
    {
     "name": "stdout",
     "output_type": "stream",
     "text": [
      "Business Idea: Agentic AI excels in situations where there's a need for **autonomous goal pursuit, complex decision-making, interaction with multiple systems, and continuous adaptation/learning** without constant human oversight.\n",
      "\n",
      "Here are a few promising business areas for Agentic AI, with a focus on where they can deliver significant value:\n",
      "\n",
      "---\n",
      "\n",
      "### 1. Autonomous Operations Orchestration (e.g., Supply Chain, Manufacturing, IT/Cloud Ops)\n",
      "\n",
      "**The Opportunity:**\n",
      "Many industries are riddled with complex, interdependent processes that rely on numerous systems, manual handoffs, and reactive decision-making. Agentic AI can act as an intelligent, proactive \"conductor\" for these operations.\n",
      "\n",
      "*   **Supply Chain & Logistics:** Imagine an agentic AI system that doesn't just track shipments but actively *monitors* real-time conditions (weather, traffic, geopolitical events), *identifies* potential disruptions (delays, stockouts), *proposes* and *executes* alternative solutions (re-routing, re-ordering from different suppliers, dynamically adjusting production schedules), and *communicates* updates across the network – all autonomously. It's about moving from reactive problem-solving to proactive, adaptive network optimization.\n",
      "    *   *Why Agentic:* Requires continuous monitoring, complex multi-variable optimization, interaction with ERP/WMS/TMS systems, external data feeds, and autonomous decision-making under uncertainty.\n",
      "*   **Manufacturing/Industrial Automation:** Beyond traditional robotics, an agentic AI could manage entire production lines, optimizing throughput, predicting and preventing equipment failures, dynamically reconfiguring production based on demand shifts, and autonomously ordering components just-in-time.\n",
      "    *   *Why Agentic:* Needs to integrate with IoT sensors, machinery PLCs, inventory systems, and adapt to changing conditions and goals (e.g., maximize profit, minimize waste, meet a specific deadline).\n",
      "*   **IT/Cloud Operations (AIOps 2.0):** Instead of just alerting humans, an agentic AI could detect system anomalies, diagnose root causes across distributed systems, autonomously execute remediation steps (e.g., scale resources, restart services, roll back deployments), and even provision new infrastructure based on predicted needs.\n",
      "    *   *Why Agentic:* Requires understanding system states, goal-driven problem solving, interacting with APIs (cloud providers, monitoring tools, deployment pipelines), and learning from past incidents.\n",
      "\n",
      "**Why now?** The explosion of IoT data, the increasing complexity of global operations, and the maturity of LLMs for reasoning and planning make this ripe for an agentic approach.\n",
      "\n",
      "---\n",
      "\n",
      "### 2. Hyper-Personalized & Proactive Customer Journey Automation\n",
      "\n",
      "**The Opportunity:**\n",
      "Current customer service often involves chatbots that handle simple queries or human agents dealing with complex issues. Agentic AI can bridge this gap by offering truly proactive, multi-channel, and goal-oriented customer engagement that anticipates needs and resolves problems before they fully manifest.\n",
      "\n",
      "*   **\"Self-Driving\" Customer Support:** An agentic AI could monitor a customer's activity across your website, app, purchase history, and even external social media. It could proactively reach out (via email, in-app notification, or even a synthetic voice call) with personalized offers, troubleshooting tips (e.g., \"We noticed you're having trouble with feature X, here's a tutorial and a discount on a related service\"), or even initiating a return or refund process before the customer complains.\n",
      "    *   *Why Agentic:* Requires continuous monitoring, context awareness across multiple data points, goal-oriented communication (e.g., \"reduce churn for customer X,\" \"upsell product Y\"), and the ability to interact with CRM, marketing automation, and support systems.\n",
      "*   **Personalized Digital Concierge Services:** Beyond basic support, imagine an AI that manages your appointments, travel bookings, subscription renewals, or even helps you manage your personal finances by proactively suggesting actions (\"You're about to exceed your budget for dining out this month. Would you like to shift funds from savings, or perhaps order in more?\").\n",
      "    *   *Why Agentic:* Requires understanding user preferences, goal-setting (e.g., \"save money,\" \"plan a trip\"), integration with external APIs (calendars, banking apps, travel sites), and autonomous decision-making/execution.\n",
      "\n",
      "**Why now?** Customers expect seamless, personalized experiences. The volume of data makes human-driven hyper-personalization difficult at scale. Agentic AI can provide this white-glove service to millions.\n",
      "\n",
      "---\n",
      "\n",
      "### 3. Autonomous Research & Strategic Intelligence\n",
      "\n",
      "**The Opportunity:**\n",
      "Knowledge workers spend an enormous amount of time on research, data synthesis, and analysis to inform strategic decisions. Agentic AI can automate and accelerate this process, becoming a continuous \"AI analyst.\"\n",
      "\n",
      "*   **Competitive Intelligence & Market Analysis:** An agentic AI could continuously scour the web, financial reports, news feeds, social media, and academic papers to identify emerging trends, analyze competitor strategies, spot market opportunities, and even predict potential disruptions. It could then autonomously generate concise reports, SWOT analyses, or even \"playbooks\" for strategic response.\n",
      "    *   *Why Agentic:* Requires complex information retrieval, cross-referencing, synthesis, critical evaluation of sources, and the ability to structure information into actionable insights, often proactively without specific prompts.\n",
      "*   **Legal & Regulatory Compliance Monitoring:** For businesses operating in highly regulated industries (finance, healthcare, pharmaceuticals), an agentic AI could monitor changes in laws, regulations, and industry standards globally. It could then analyze the impact on the company's operations, identify areas of non-compliance, and even suggest policy or process changes.\n",
      "    *   *Why Agentic:* Demands high accuracy, continuous monitoring of vast textual data, nuanced understanding of legal language, and the ability to map changes to internal policies and processes.\n",
      "*   **Scientific Discovery & R&D:** While direct experimentation might be a stretch now, an agentic AI could autonomously review all published literature in a field, hypothesize new experiments, design simulation parameters, and even identify promising compounds or materials for further human investigation.\n",
      "    *   *Why Agentic:* Requires advanced reasoning, hypothesis generation, systematic exploration of knowledge bases, and the ability to propose structured next steps in a scientific method.\n",
      "\n",
      "**Why now?** The sheer volume of information makes it impossible for humans to keep up. LLMs provide the reasoning and synthesis capabilities, while agentic frameworks enable the autonomous exploration and action.\n",
      "\n",
      "---\n",
      "\n",
      "### Key Success Factors for an Agentic AI Business:\n",
      "\n",
      "1.  **Clear Problem/ROI:** Identify a genuine pain point where current solutions are inadequate and where autonomy provides a significant advantage (cost savings, speed, accuracy, new capabilities).\n",
      "2.  **Access to Data & Tools:** Agentic AIs need to perceive and act. This means access to relevant data streams and the ability to integrate with existing software, APIs, and potentially physical systems.\n",
      "3.  **Explainability & Trust:** For high-stakes decisions, being able to understand *why* the agent took a certain action will be crucial. Trust is paramount for adoption.\n",
      "4.  **Robust Error Handling & Fallbacks:** Agents *will* fail or encounter unexpected situations. Designing for graceful degradation, human-in-the-loop interventions, and learning from failures is critical.\n",
      "5.  **Ethical & Regulatory Considerations:** Especially in finance, healthcare, or areas impacting human lives, navigate the ethical implications and regulatory landscape from day one.\n",
      "\n",
      "Choosing any of these areas and deeply understanding a specific niche within them, combined with a strong focus on the agentic capabilities, could lead to a highly impactful and profitable venture.\n",
      "Pain Point: Based on the provided text, a major pain-point that Agentic AI is poised to solve is the **inability of human-centric and traditional automated systems to effectively manage and proactively adapt to the escalating complexity, overwhelming data volumes, and highly dynamic nature of modern business operations and strategic decision-making.**\n",
      "\n",
      "This core pain point manifests in several ways across the discussed areas:\n",
      "\n",
      "1.  **Reactive Decision-Making & Manual Interventions:** Instead of proactively anticipating and mitigating issues (e.g., supply chain disruptions, IT incidents), current systems often rely on humans reacting to problems after they occur, leading to inefficiencies and higher costs.\n",
      "2.  **Information Overload & Inability to Synthesize at Scale:** Humans are overwhelmed by the sheer volume of data (IoT, market intelligence, customer interactions, regulatory changes), making it impossible to continuously monitor, synthesize, and extract actionable insights in real-time.\n",
      "3.  **Lack of Scalable Hyper-Personalization:** While customers expect highly personalized experiences, delivering this at scale with current human-driven or simple automated systems is incredibly challenging and resource-intensive.\n",
      "4.  **Siloed Systems & Complex Interdependencies:** Many business processes involve numerous disparate systems, leading to manual handoffs, data inconsistencies, and a lack of holistic optimization across the entire operation.\n",
      "\n",
      "Agentic AI directly addresses this by offering autonomous, continuous, and adaptive intelligence that can process vast amounts of data, make complex decisions across interconnected systems, and pursue goals proactively without constant human oversight.\n"
     ]
    }
   ],
   "source": [
    "# First create the messages:\n",
    "\n",
    "messages = [{\"role\": \"user\", \"content\": \"Suggest a business area that might be worth exploring for an Agentic AI opportunity.\"}]\n",
    "\n",
    "# Then make the first call:\n",
    "\n",
    "response = gemini.chat.completions.create(\n",
    "    model=\"gemini-2.5-flash-preview-05-20\",  # Use the correct Gemini model name\n",
    "    messages=messages\n",
    ")\n",
    "\n",
    "# Then read the business idea:\n",
    "\n",
    "business_idea = response.choices[0].message.content\n",
    "print(\"Business Idea:\", business_idea)\n",
    "# And repeat! In the next message, include the business idea within the message\n",
    "messages = [{\"role\": \"user\", \"content\": f\"In the business area '{business_idea}', what is a major pain-point that could be solved with AI?\"}]\n",
    "response = gemini.chat.completions.create(\n",
    "    model=\"gemini-2.5-flash-preview-05-20\",\n",
    "    messages=messages\n",
    ")\n",
    "pain_point = response.choices[0].message.content\n",
    "print(\"Pain Point:\", pain_point)"
   ]
  },
  {
   "cell_type": "markdown",
   "metadata": {},
   "source": []
  }
 ],
 "metadata": {
  "kernelspec": {
   "display_name": ".venv",
   "language": "python",
   "name": "python3"
  },
  "language_info": {
   "codemirror_mode": {
    "name": "ipython",
    "version": 3
   },
   "file_extension": ".py",
   "mimetype": "text/x-python",
   "name": "python",
   "nbconvert_exporter": "python",
   "pygments_lexer": "ipython3",
   "version": "3.12.6"
  }
 },
 "nbformat": 4,
 "nbformat_minor": 2
}
