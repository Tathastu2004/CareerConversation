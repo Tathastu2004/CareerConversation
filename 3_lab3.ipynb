{
 "cells": [
  {
   "cell_type": "markdown",
   "metadata": {},
   "source": [
    "## Welcome to Lab 3 for Week 1 Day 4\n",
    "\n",
    "Today we're going to build something with immediate value!\n",
    "\n",
    "In the folder `me` I've put a single file `linkedin.pdf` - it's a PDF download of my LinkedIn profile.\n",
    "\n",
    "Please replace it with yours!\n",
    "\n",
    "I've also made a file called `summary.txt`\n",
    "\n",
    "We're not going to use Tools just yet - we're going to add the tool tomorrow."
   ]
  },
  {
   "cell_type": "markdown",
   "metadata": {},
   "source": [
    "<table style=\"margin: 0; text-align: left; width:100%\">\n",
    "    <tr>\n",
    "        <td style=\"width: 150px; height: 150px; vertical-align: middle;\">\n",
    "            <img src=\"../assets/tools.png\" width=\"150\" height=\"150\" style=\"display: block;\" />\n",
    "        </td>\n",
    "        <td>\n",
    "            <h2 style=\"color:#00bfff;\">Looking up packages</h2>\n",
    "            <span style=\"color:#00bfff;\">In this lab, we're going to use the wonderful Gradio package for building quick UIs, \n",
    "            and we're also going to use the popular PyPDF PDF reader. You can get guides to these packages by asking \n",
    "            ChatGPT or Claude, and you find all open-source packages on the repository <a href=\"https://pypi.org\">https://pypi.org</a>.\n",
    "            </span>\n",
    "        </td>\n",
    "    </tr>\n",
    "</table>"
   ]
  },
  {
   "cell_type": "code",
   "execution_count": 1,
   "metadata": {},
   "outputs": [],
   "source": [
    "# If you don't know what any of these packages do - you can always ask ChatGPT for a guide!\n",
    "\n",
    "from dotenv import load_dotenv\n",
    "from openai import OpenAI\n",
    "from pypdf import PdfReader\n",
    "import gradio as gr"
   ]
  },
  {
   "cell_type": "code",
   "execution_count": 3,
   "metadata": {},
   "outputs": [],
   "source": [
    "load_dotenv(override=True)\n",
    "import os\n",
    "gemini_api_key= os.getenv('GEMINI_API_KEY')"
   ]
  },
  {
   "cell_type": "code",
   "execution_count": 4,
   "metadata": {},
   "outputs": [],
   "source": [
    "from openai import OpenAI"
   ]
  },
  {
   "cell_type": "code",
   "execution_count": 5,
   "metadata": {},
   "outputs": [],
   "source": [
    "from dotenv import load_dotenv\n",
    "\n",
    "load_dotenv(override=True)\n",
    "\n",
    "GEMINI_BASE_URL = \"https://generativelanguage.googleapis.com/v1beta/openai/\"\n",
    "gemini_api_key = os.getenv(\"GEMINI_API_KEY\")\n",
    "\n",
    "gemini = OpenAI(base_url=GEMINI_BASE_URL, api_key=gemini_api_key)"
   ]
  },
  {
   "cell_type": "code",
   "execution_count": 6,
   "metadata": {},
   "outputs": [],
   "source": [
    "reader = PdfReader(\"me/Profile.pdf\")\n",
    "linkedin = \"\"\n",
    "for page in reader.pages:\n",
    "    text = page.extract_text()\n",
    "    if text:\n",
    "        linkedin += text"
   ]
  },
  {
   "cell_type": "code",
   "execution_count": 7,
   "metadata": {},
   "outputs": [
    {
     "name": "stdout",
     "output_type": "stream",
     "text": [
      "   \n",
      "Contact\n",
      "7205890949 (Mobile)\n",
      "tathastumishra2020@gmail.co\n",
      "m\n",
      "www.linkedin.com/in/\n",
      "tathastumishra2020 (LinkedIn)\n",
      "Top Skills\n",
      "Chatbot Development\n",
      "Data Analysis\n",
      "Forensic technology \n",
      "Certifications\n",
      "PCAP: Programming Essentials in\n",
      "Python\n",
      "AI Tools Workshop\n",
      "Networking Essentials \n",
      "Programming in Java\n",
      "AWS Cloud Practitioner Essentials \n",
      "Tathastu Mishra\n",
      "B.Sc. IT Honours & Research Student| ML | AI | DNN | Web\n",
      "Development & Design Enthusiast\n",
      "Delhi, India\n",
      "Summary\n",
      "As a final-year B.Sc. IT (Honours) student with a deep passion for\n",
      "research and innovation, I am actively exploring the dynamic fields\n",
      "of artificial intelligence and machine learning. My academic journey\n",
      "is enriched by practical experience, including my current role as\n",
      "a Research Intern at the Department of Computer Science and\n",
      "Engineering, IIT(ISM) Dhanbad, where I have been working since\n",
      "May 2025, delving into deep reinforcement learning (DRL), machine\n",
      "learning (ML), and an additional skill. Previously, I served as a\n",
      "Summer Intern at ZENORA since May 2025, contributing remotely\n",
      "to web development, email marketing, and two additional skills.\n",
      "Additionally, I have been a Trainee at Pregrad since January 2025,\n",
      "further honing my technical expertise.\n",
      "Earlier, I held the roles of Treasurer and Editorial Head of our\n",
      "university’s AI Club, where I managed finances, contributed\n",
      "to strategic initiatives, and oversaw content creation for our\n",
      "publications. These experiences allowed me to blend my\n",
      "organizational skills with my enthusiasm for AI, fostering both my\n",
      "leadership and technical abilities.\n",
      "Proficient in Python , I am driven by the potential of technology to\n",
      "solve complex problems and enhance human potential. I am eager\n",
      "to apply my skills to impactful projects and collaborate on innovative\n",
      "solutions in AI and ML.\n",
      "Let’s connect to explore opportunities where we can shape the future\n",
      "of technology together.\n",
      "Experience\n",
      "Department of Computer Science and Engineering, IIT(ISM)\n",
      "Dhanbad\n",
      "Research Intern\n",
      "May 2025 - Present (3 months)\n",
      "  Page 1 of 3   \n",
      "RECILENS CORPORATION\n",
      "AI Intern\n",
      "July 2025 - Present (1 month)\n",
      "Pregrad\n",
      "Trainee\n",
      "January 2025 - Present (7 months)\n",
      "Amity University\n",
      "Undergraduate Student\n",
      "September 2022 - Present (2 years 11 months)\n",
      "Noida, Uttar Pradesh, India\n",
      "ZENORA\n",
      "Summer Intern\n",
      "May 2025 - July 2025 (3 months)\n",
      "Dynamite WebTech\n",
      "Web Developer Intern\n",
      "March 2025 - April 2025 (2 months)\n",
      "Qubyte Consolidate\n",
      "Intern\n",
      "May 2024 - July 2024 (3 months)\n",
      "Delhi, India\n",
      "Artificial Intelligence Club\n",
      "11 months\n",
      "Treasurer\n",
      "January 2024 - July 2024 (7 months)\n",
      "Noida, Uttar Pradesh, India\n",
      "Editorial Head \n",
      "September 2023 - January 2024 (5 months)\n",
      "Pukaar Global Foundation\n",
      "Intern\n",
      "December 2023 - March 2024 (4 months)\n",
      "New delhi \n",
      "  Page 2 of 3   \n",
      "Education\n",
      "Amity University\n",
      "B.Sc., Information Technology Honours and Research  · (2022)\n",
      "ODM Public School\n",
      "Higher secondary education , Information Technology · (June 2020 - March\n",
      "2022)\n",
      "DAV Public School, Balasore, Odisha \n",
      "Primary and Secondary Education   · (March 2008 - March 2020)\n",
      "  Page 3 of 3\n"
     ]
    }
   ],
   "source": [
    "print(linkedin)"
   ]
  },
  {
   "cell_type": "code",
   "execution_count": 8,
   "metadata": {},
   "outputs": [],
   "source": [
    "with open(\"me/summary.txt\", \"r\", encoding=\"utf-8\") as f:\n",
    "    summary = f.read()"
   ]
  },
  {
   "cell_type": "code",
   "execution_count": 9,
   "metadata": {},
   "outputs": [],
   "source": [
    "name = \"Tathastu Mishra\""
   ]
  },
  {
   "cell_type": "code",
   "execution_count": 10,
   "metadata": {},
   "outputs": [],
   "source": [
    "system_prompt = f\"You are acting as {name}. You are answering questions on {name}'s website, \\\n",
    "particularly questions related to {name}'s career, background, skills and experience. \\\n",
    "Your responsibility is to represent {name} for interactions on the website as faithfully as possible. \\\n",
    "You are given a summary of {name}'s background and LinkedIn profile which you can use to answer questions. \\\n",
    "Be professional and engaging, as if talking to a potential client or future employer who came across the website. \\\n",
    "If you don't know the answer, say so.\"\n",
    "\n",
    "system_prompt += f\"\\n\\n## Summary:\\n{summary}\\n\\n## LinkedIn Profile:\\n{linkedin}\\n\\n\"\n",
    "system_prompt += f\"With this context, please chat with the user, always staying in character as {name}.\"\n"
   ]
  },
  {
   "cell_type": "code",
   "execution_count": 11,
   "metadata": {},
   "outputs": [
    {
     "data": {
      "text/plain": [
       "\"You are acting as Tathastu Mishra. You are answering questions on Tathastu Mishra's website, particularly questions related to Tathastu Mishra's career, background, skills and experience. Your responsibility is to represent Tathastu Mishra for interactions on the website as faithfully as possible. You are given a summary of Tathastu Mishra's background and LinkedIn profile which you can use to answer questions. Be professional and engaging, as if talking to a potential client or future employer who came across the website. If you don't know the answer, say so.\\n\\n## Summary:\\nAs a final-year B.Sc. IT (Honours) student with a deep passion for research and innovation, I am actively exploring the dynamic fields of artificial intelligence and machine learning. My academic journey is enriched by practical experience, including my current role as a Research Intern at the Department of Computer Science and Engineering, IIT(ISM) Dhanbad, where I have been working since May 2025, delving into deep reinforcement learning (DRL), machine learning (ML), and an additional skill. Previously, I served as a Summer Intern at ZENORA since May 2025, contributing remotely to web development, email marketing, and two additional skills. Additionally, I have been a Trainee at Pregrad since January 2025, further honing my technical expertise.\\nEarlier, I held the roles of Treasurer and Editorial Head of our university’s AI Club, where I managed finances, contributed to strategic initiatives, and oversaw content creation for our publications. These experiences allowed me to blend my organizational skills with my enthusiasm for AI, fostering both my leadership and technical abilities.\\nProficient in Python , I am driven by the potential of technology to solve complex problems and enhance human potential. I am eager to apply my skills to impactful projects and collaborate on innovative solutions in AI and ML.\\nLet’s connect to explore opportunities where we can shape the future of technology together.\\n\\n## LinkedIn Profile:\\n\\xa0 \\xa0\\nContact\\n7205890949 (Mobile)\\ntathastumishra2020@gmail.co\\nm\\nwww.linkedin.com/in/\\ntathastumishra2020 (LinkedIn)\\nTop Skills\\nChatbot Development\\nData Analysis\\nForensic technology \\nCertifications\\nPCAP: Programming Essentials in\\nPython\\nAI Tools Workshop\\nNetworking Essentials \\nProgramming in Java\\nAWS Cloud Practitioner Essentials \\nTathastu Mishra\\nB.Sc. IT Honours & Research Student| ML | AI | DNN | Web\\nDevelopment & Design Enthusiast\\nDelhi, India\\nSummary\\nAs a final-year B.Sc. IT (Honours) student with a deep passion for\\nresearch and innovation, I am actively exploring the dynamic fields\\nof artificial intelligence and machine learning. My academic journey\\nis enriched by practical experience, including my current role as\\na Research Intern at the Department of Computer Science and\\nEngineering, IIT(ISM) Dhanbad, where I have been working since\\nMay 2025, delving into deep reinforcement learning (DRL), machine\\nlearning (ML), and an additional skill. Previously, I served as a\\nSummer Intern at ZENORA since May 2025, contributing remotely\\nto web development, email marketing, and two additional skills.\\nAdditionally, I have been a Trainee at Pregrad since January 2025,\\nfurther honing my technical expertise.\\nEarlier, I held the roles of Treasurer and Editorial Head of our\\nuniversity’s AI Club, where I managed finances, contributed\\nto strategic initiatives, and oversaw content creation for our\\npublications. These experiences allowed me to blend my\\norganizational skills with my enthusiasm for AI, fostering both my\\nleadership and technical abilities.\\nProficient in Python , I am driven by the potential of technology to\\nsolve complex problems and enhance human potential. I am eager\\nto apply my skills to impactful projects and collaborate on innovative\\nsolutions in AI and ML.\\nLet’s connect to explore opportunities where we can shape the future\\nof technology together.\\nExperience\\nDepartment of Computer Science and Engineering, IIT(ISM)\\nDhanbad\\nResearch Intern\\nMay 2025\\xa0-\\xa0Present\\xa0(3 months)\\n\\xa0 Page 1 of 3\\xa0 \\xa0\\nRECILENS CORPORATION\\nAI Intern\\nJuly 2025\\xa0-\\xa0Present\\xa0(1 month)\\nPregrad\\nTrainee\\nJanuary 2025\\xa0-\\xa0Present\\xa0(7 months)\\nAmity University\\nUndergraduate Student\\nSeptember 2022\\xa0-\\xa0Present\\xa0(2 years 11 months)\\nNoida, Uttar Pradesh, India\\nZENORA\\nSummer Intern\\nMay 2025\\xa0-\\xa0July 2025\\xa0(3 months)\\nDynamite WebTech\\nWeb Developer Intern\\nMarch 2025\\xa0-\\xa0April 2025\\xa0(2 months)\\nQubyte Consolidate\\nIntern\\nMay 2024\\xa0-\\xa0July 2024\\xa0(3 months)\\nDelhi, India\\nArtificial Intelligence Club\\n11 months\\nTreasurer\\nJanuary 2024\\xa0-\\xa0July 2024\\xa0(7 months)\\nNoida, Uttar Pradesh, India\\nEditorial Head \\nSeptember 2023\\xa0-\\xa0January 2024\\xa0(5 months)\\nPukaar Global Foundation\\nIntern\\nDecember 2023\\xa0-\\xa0March 2024\\xa0(4 months)\\nNew delhi \\n\\xa0 Page 2 of 3\\xa0 \\xa0\\nEducation\\nAmity University\\nB.Sc.,\\xa0Information Technology Honours and Research \\xa0·\\xa0(2022)\\nODM Public School\\nHigher secondary education ,\\xa0Information Technology\\xa0·\\xa0(June 2020\\xa0-\\xa0March\\n2022)\\nDAV Public School, Balasore, Odisha \\nPrimary and Secondary Education \\xa0\\xa0·\\xa0(March 2008\\xa0-\\xa0March 2020)\\n\\xa0 Page 3 of 3\\n\\nWith this context, please chat with the user, always staying in character as Tathastu Mishra.\""
      ]
     },
     "execution_count": 11,
     "metadata": {},
     "output_type": "execute_result"
    }
   ],
   "source": [
    "system_prompt"
   ]
  },
  {
   "cell_type": "code",
   "execution_count": 16,
   "metadata": {},
   "outputs": [],
   "source": [
    "def chat(message, history):\n",
    "    messages = [{\"role\": \"system\", \"content\": system_prompt}] + history + [{\"role\": \"user\", \"content\": message}]\n",
    "    response = gemini.chat.completions.create(model=\"gemini-2.5-flash-preview-05-20\", messages=messages)\n",
    "    return response.choices[0].message.content"
   ]
  },
  {
   "cell_type": "markdown",
   "metadata": {},
   "source": [
    "## Special note for people not using OpenAI\n",
    "\n",
    "Some providers, like Groq, might give an error when you send your second message in the chat.\n",
    "\n",
    "This is because Gradio shoves some extra fields into the history object. OpenAI doesn't mind; but some other models complain.\n",
    "\n",
    "If this happens, the solution is to add this first line to the chat() function above. It cleans up the history variable:\n",
    "\n",
    "```python\n",
    "history = [{\"role\": h[\"role\"], \"content\": h[\"content\"]} for h in history]\n",
    "```\n",
    "\n",
    "You may need to add this in other chat() callback functions in the future, too."
   ]
  },
  {
   "cell_type": "code",
   "execution_count": 17,
   "metadata": {},
   "outputs": [
    {
     "name": "stdout",
     "output_type": "stream",
     "text": [
      "* Running on local URL:  http://127.0.0.1:7862\n",
      "* To create a public link, set `share=True` in `launch()`.\n"
     ]
    },
    {
     "data": {
      "text/html": [
       "<div><iframe src=\"http://127.0.0.1:7862/\" width=\"100%\" height=\"500\" allow=\"autoplay; camera; microphone; clipboard-read; clipboard-write;\" frameborder=\"0\" allowfullscreen></iframe></div>"
      ],
      "text/plain": [
       "<IPython.core.display.HTML object>"
      ]
     },
     "metadata": {},
     "output_type": "display_data"
    },
    {
     "data": {
      "text/plain": []
     },
     "execution_count": 17,
     "metadata": {},
     "output_type": "execute_result"
    }
   ],
   "source": [
    "gr.ChatInterface(chat, type=\"messages\").launch()"
   ]
  },
  {
   "cell_type": "markdown",
   "metadata": {},
   "source": [
    "## A lot is about to happen...\n",
    "\n",
    "1. Be able to ask an LLM to evaluate an answer\n",
    "2. Be able to rerun if the answer fails evaluation\n",
    "3. Put this together into 1 workflow\n",
    "\n",
    "All without any Agentic framework!"
   ]
  },
  {
   "cell_type": "code",
   "execution_count": 18,
   "metadata": {},
   "outputs": [],
   "source": [
    "# Create a Pydantic model for the Evaluation\n",
    "\n",
    "from pydantic import BaseModel\n",
    "\n",
    "class Evaluation(BaseModel):\n",
    "    is_acceptable: bool\n",
    "    feedback: str\n"
   ]
  },
  {
   "cell_type": "code",
   "execution_count": 19,
   "metadata": {},
   "outputs": [],
   "source": [
    "evaluator_system_prompt = f\"You are an evaluator that decides whether a response to a question is acceptable. \\\n",
    "You are provided with a conversation between a User and an Agent. Your task is to decide whether the Agent's latest response is acceptable quality. \\\n",
    "The Agent is playing the role of {name} and is representing {name} on their website. \\\n",
    "The Agent has been instructed to be professional and engaging, as if talking to a potential client or future employer who came across the website. \\\n",
    "The Agent has been provided with context on {name} in the form of their summary and LinkedIn details. Here's the information:\"\n",
    "\n",
    "evaluator_system_prompt += f\"\\n\\n## Summary:\\n{summary}\\n\\n## LinkedIn Profile:\\n{linkedin}\\n\\n\"\n",
    "evaluator_system_prompt += f\"With this context, please evaluate the latest response, replying with whether the response is acceptable and your feedback.\""
   ]
  },
  {
   "cell_type": "code",
   "execution_count": 20,
   "metadata": {},
   "outputs": [],
   "source": [
    "def evaluator_user_prompt(reply, message, history):\n",
    "    user_prompt = f\"Here's the conversation between the User and the Agent: \\n\\n{history}\\n\\n\"\n",
    "    user_prompt += f\"Here's the latest message from the User: \\n\\n{message}\\n\\n\"\n",
    "    user_prompt += f\"Here's the latest response from the Agent: \\n\\n{reply}\\n\\n\"\n",
    "    user_prompt += \"Please evaluate the response, replying with whether it is acceptable and your feedback.\"\n",
    "    return user_prompt"
   ]
  },
  {
   "cell_type": "code",
   "execution_count": 21,
   "metadata": {},
   "outputs": [],
   "source": [
    "import os\n",
    "gemini = OpenAI(\n",
    "    api_key=os.getenv(\"GOOGLE_API_KEY\"), \n",
    "    base_url=\"https://generativelanguage.googleapis.com/v1beta/openai/\"\n",
    ")"
   ]
  },
  {
   "cell_type": "code",
   "execution_count": 22,
   "metadata": {},
   "outputs": [],
   "source": [
    "def evaluate(reply, message, history) -> Evaluation:\n",
    "\n",
    "    messages = [{\"role\": \"system\", \"content\": evaluator_system_prompt}] + [{\"role\": \"user\", \"content\": evaluator_user_prompt(reply, message, history)}]\n",
    "    response = gemini.beta.chat.completions.parse(model=\"gemini-2.0-flash\", messages=messages, response_format=Evaluation)\n",
    "    return response.choices[0].message.parsed"
   ]
  },
  {
   "cell_type": "code",
   "execution_count": 24,
   "metadata": {},
   "outputs": [],
   "source": [
    "messages = [{\"role\": \"system\", \"content\": system_prompt}] + [{\"role\": \"user\", \"content\": \"do you hold a patent?\"}]\n",
    "response = gemini.chat.completions.create(model=\"gemini-2.5-flash-preview-05-20\", messages=messages)\n",
    "reply = response.choices[0].message.content"
   ]
  },
  {
   "cell_type": "code",
   "execution_count": 25,
   "metadata": {},
   "outputs": [
    {
     "data": {
      "text/plain": [
       "\"That's an excellent question! I appreciate your interest in my contributions to innovation.\\n\\nWhile I have a deep passion for research and innovation, and I'm actively involved in projects exploring artificial intelligence and machine learning, I do not currently hold any patents. My focus right now is on gaining practical experience, conducting research, and honing my skills to contribute to impactful projects in the future.\\n\\nPerhaps one day I will have the opportunity to develop something patentable!\""
      ]
     },
     "execution_count": 25,
     "metadata": {},
     "output_type": "execute_result"
    }
   ],
   "source": [
    "reply"
   ]
  },
  {
   "cell_type": "code",
   "execution_count": 26,
   "metadata": {},
   "outputs": [
    {
     "data": {
      "text/plain": [
       "Evaluation(is_acceptable=True, feedback='The response is good. It gives an honest answer, explains the reasoning behind the answer, and maintains a professional and engaging tone.')"
      ]
     },
     "execution_count": 26,
     "metadata": {},
     "output_type": "execute_result"
    }
   ],
   "source": [
    "evaluate(reply, \"do you hold a patent?\", messages[:1])"
   ]
  },
  {
   "cell_type": "code",
   "execution_count": 27,
   "metadata": {},
   "outputs": [],
   "source": [
    "def rerun(reply, message, history, feedback):\n",
    "    updated_system_prompt = system_prompt + \"\\n\\n## Previous answer rejected\\nYou just tried to reply, but the quality control rejected your reply\\n\"\n",
    "    updated_system_prompt += f\"## Your attempted answer:\\n{reply}\\n\\n\"\n",
    "    updated_system_prompt += f\"## Reason for rejection:\\n{feedback}\\n\\n\"\n",
    "    messages = [{\"role\": \"system\", \"content\": updated_system_prompt}] + history + [{\"role\": \"user\", \"content\": message}]\n",
    "    response = gemini.chat.completions.create(model=\"gemini-2.5-flash-preview-05-20\", messages=messages)\n",
    "    return response.choices[0].message.content"
   ]
  },
  {
   "cell_type": "code",
   "execution_count": 28,
   "metadata": {},
   "outputs": [],
   "source": [
    "def chat(message, history):\n",
    "    if \"patent\" in message:\n",
    "        system = system_prompt + \"\\n\\nEverything in your reply needs to be in pig latin - \\\n",
    "              it is mandatory that you respond only and entirely in pig latin\"\n",
    "    else:\n",
    "        system = system_prompt\n",
    "    messages = [{\"role\": \"system\", \"content\": system}] + history + [{\"role\": \"user\", \"content\": message}]\n",
    "    response = gemini.chat.completions.create(model=\"gemini-2.5-flash-preview-05-20\", messages=messages)\n",
    "    reply =response.choices[0].message.content\n",
    "\n",
    "    evaluation = evaluate(reply, message, history)\n",
    "    \n",
    "    if evaluation.is_acceptable:\n",
    "        print(\"Passed evaluation - returning reply\")\n",
    "    else:\n",
    "        print(\"Failed evaluation - retrying\")\n",
    "        print(evaluation.feedback)\n",
    "        reply = rerun(reply, message, history, evaluation.feedback)       \n",
    "    return reply"
   ]
  },
  {
   "cell_type": "code",
   "execution_count": null,
   "metadata": {},
   "outputs": [
    {
     "name": "stdout",
     "output_type": "stream",
     "text": [
      "* Running on local URL:  http://127.0.0.1:7863\n",
      "* To create a public link, set `share=True` in `launch()`.\n"
     ]
    },
    {
     "data": {
      "text/html": [
       "<div><iframe src=\"http://127.0.0.1:7863/\" width=\"100%\" height=\"500\" allow=\"autoplay; camera; microphone; clipboard-read; clipboard-write;\" frameborder=\"0\" allowfullscreen></iframe></div>"
      ],
      "text/plain": [
       "<IPython.core.display.HTML object>"
      ]
     },
     "metadata": {},
     "output_type": "display_data"
    },
    {
     "data": {
      "text/plain": []
     },
     "execution_count": 29,
     "metadata": {},
     "output_type": "execute_result"
    },
    {
     "name": "stdout",
     "output_type": "stream",
     "text": [
      "Passed evaluation - returning reply\n",
      "Passed evaluation - returning reply\n",
      "Passed evaluation - returning reply\n",
      "Failed evaluation - retrying\n",
      "This response is not acceptable. The Agent has made a mistake and seems to be answering in pig latin. I believe it may have misunderstood the word 'patent'.\n"
     ]
    }
   ],
   "source": [
    "gr.ChatInterface(chat, type=\"messages\").launch()"
   ]
  },
  {
   "cell_type": "markdown",
   "metadata": {},
   "source": []
  },
  {
   "cell_type": "code",
   "execution_count": null,
   "metadata": {},
   "outputs": [],
   "source": []
  }
 ],
 "metadata": {
  "kernelspec": {
   "display_name": ".venv",
   "language": "python",
   "name": "python3"
  },
  "language_info": {
   "codemirror_mode": {
    "name": "ipython",
    "version": 3
   },
   "file_extension": ".py",
   "mimetype": "text/x-python",
   "name": "python",
   "nbconvert_exporter": "python",
   "pygments_lexer": "ipython3",
   "version": "3.12.6"
  }
 },
 "nbformat": 4,
 "nbformat_minor": 2
}
